{
 "cells": [
  {
   "cell_type": "code",
   "execution_count": 1,
   "id": "0b12377b",
   "metadata": {},
   "outputs": [],
   "source": [
    "# %matplotlib widget\n",
    "# import matplotlib.pyplot as plt\n",
    "# from matplotlib.animation import FuncAnimation\n",
    "# from IPython import display\n",
    "# import numpy as np\n",
    "\n",
    "# # Turn off matplotlib plot in Notebook\n",
    "# plt.ioff()"
   ]
  },
  {
   "cell_type": "code",
   "execution_count": 2,
   "id": "4fbceaa7",
   "metadata": {},
   "outputs": [],
   "source": [
    "# fig, ax = plt.subplots()\n",
    "\n",
    "# line, = ax.plot([])\n",
    "\n",
    "# ax.set_xlim(0, 2*np.pi)\n",
    "# ax.set_ylim(-1.1, 1.1)\n",
    "\n",
    "# x = np.linspace(0, 2*np.pi, 100)\n",
    "\n",
    "\n",
    "# def animate(frame_num):\n",
    "#     y = np.sin(x + 2*np.pi * frame_num/100)\n",
    "#     line.set_data((x, y))\n",
    "#     return line\n",
    "\n",
    "# anim = FuncAnimation(fig, animate, frames=1000, interval=10)\n",
    "\n",
    "# video = anim.to_html5_video()\n",
    "# html = display.HTML(video)\n",
    "# display.display(html)\n",
    "# plt.close()"
   ]
  },
  {
   "cell_type": "code",
   "execution_count": 3,
   "id": "2dc23c49",
   "metadata": {},
   "outputs": [],
   "source": [
    "# fig, ax = plt.subplots()\n",
    "\n",
    "# line, = ax.plot([])\n",
    "\n",
    "# ax.set_xlim(0, 2*np.pi)\n",
    "# ax.set_ylim(-1.1, 1.1)\n",
    "\n",
    "# x = np.linspace(0, 2*np.pi, 100)\n",
    "\n",
    "\n",
    "# def animate(frame_num):\n",
    "#     y = np.sin(x + 2*np.pi * frame_num/100)\n",
    "#     line.set_data((x, y))\n",
    "#     return line\n",
    "\n",
    "# anim1 = FuncAnimation(fig, animate, frames=100, interval=10)\n",
    "# plt.show()\n",
    "\n",
    "# # video = anim.to_html5_video()\n",
    "# # html = display.HTML(video)\n",
    "# # display.display(html)\n",
    "# # plt.close()"
   ]
  },
  {
   "cell_type": "code",
   "execution_count": 4,
   "id": "b288f17e",
   "metadata": {},
   "outputs": [],
   "source": [
    "# import ipywidgets as widgets\n",
    "# import matplotlib.pyplot as plt\n",
    "# import numpy as np\n",
    "# from IPython.display import HTML\n",
    "\n",
    "\n",
    "# fig, ax = plt.subplots()\n",
    "\n",
    "# line, = ax.plot([])\n",
    "\n",
    "# ax.set_xlim(0, 2*np.pi)\n",
    "# ax.set_ylim(-1.1, 1.1)\n",
    "\n",
    "# x = np.linspace(0, 2*np.pi, 100)\n",
    "\n",
    "\n",
    "# def animate(frame_num):\n",
    "#     y = np.sin(x + 2*np.pi * frame_num/100)\n",
    "#     line.set_data((x, y))\n",
    "#     return line\n",
    "\n",
    "# @widgets.interact(noise_mean=(0, 10, 1), noise_stddev=(0, 4, .1))\n",
    "# def noise(noise_mean = 0, noise_stddev=1.0):\n",
    "#     anim2 = FuncAnimation(fig, animate, frames=100, interval=10)\n",
    "\n",
    "# # video = anim.to_html5_video()\n",
    "# # html = display.HTML(video)\n",
    "# # display.display(html)\n",
    "# # plt.close()"
   ]
  },
  {
   "cell_type": "code",
   "execution_count": 5,
   "id": "be319a8e",
   "metadata": {},
   "outputs": [],
   "source": [
    "import ipywidgets as widgets\n",
    "\n",
    "import numpy as np\n",
    "from matplotlib import pyplot as plt"
   ]
  },
  {
   "cell_type": "code",
   "execution_count": 6,
   "id": "b6f13bf0",
   "metadata": {},
   "outputs": [],
   "source": [
    "x = np.linspace(0, 2*np.pi, 1000)\n",
    "\n",
    "def sine_wave_with_freq(t=0, freq=1):\n",
    "    y=np.sin(freq * (x + 0.1*t))\n",
    "    plt.plot(x, y)\n",
    "    \n",
    "    plt.xlim(0, 2*np.pi)\n",
    "    plt.ylim(-1.5, 1.5)\n"
   ]
  },
  {
   "cell_type": "code",
   "execution_count": 7,
   "id": "a59d6b24",
   "metadata": {},
   "outputs": [
    {
     "data": {
      "application/vnd.jupyter.widget-view+json": {
       "model_id": "77ce323258ef45108c400b368d876387",
       "version_major": 2,
       "version_minor": 0
      },
      "text/plain": [
       "interactive(children=(Play(value=0, description='t', max=20), FloatSlider(value=1.0, description='freq', max=5…"
      ]
     },
     "metadata": {},
     "output_type": "display_data"
    }
   ],
   "source": [
    "widgets.interact(sine_wave_with_freq, t=widgets.Play(min=0, max=20), freq=(1, 5, 0.5));\n"
   ]
  }
 ],
 "metadata": {
  "kernelspec": {
   "display_name": "Python 3 (ipykernel)",
   "language": "python",
   "name": "python3"
  },
  "language_info": {
   "codemirror_mode": {
    "name": "ipython",
    "version": 3
   },
   "file_extension": ".py",
   "mimetype": "text/x-python",
   "name": "python",
   "nbconvert_exporter": "python",
   "pygments_lexer": "ipython3",
   "version": "3.10.6"
  }
 },
 "nbformat": 4,
 "nbformat_minor": 5
}
