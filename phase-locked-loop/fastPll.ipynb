{
 "cells": [
  {
   "cell_type": "code",
   "execution_count": 1,
   "id": "fd3d0b2a",
   "metadata": {},
   "outputs": [
    {
     "name": "stdout",
     "output_type": "stream",
     "text": [
      "All passed!\n"
     ]
    }
   ],
   "source": [
    "import sys, os\n",
    "sys.path.insert(0, os.path.abspath('../rtl-spectrogram/pll'))\n",
    "\n",
    "from Orig_PLL import PhaseLockedLoop\n",
    "from Fast_PLL import Fast_PhaseLockedLoop\n",
    "\n",
    "import numpy as np\n",
    "\n",
    "K = 1\n",
    "duration_secs = 2 / K\n",
    "\n",
    "for fs in [150 * K * 10, 150 * K * 100, 200 * K * 10]:\n",
    "    in_f_Hz   = 10*K\n",
    "    fs = 150 * K * 10\n",
    "\n",
    "    t = np.linspace(0,duration_secs, int(duration_secs*fs))\n",
    "    in_sig    = np.cos( 2*np.pi * in_f_Hz*1.25 * t + 0 )\n",
    "\n",
    "    for K_p in [0.2667/10, 0.2667, 0.1337/10,]:\n",
    "        for K_i in [0.0178*100, 0.0178, 0.0178*10, 0.1337]:\n",
    "            for K_0 in [1, 2, 5]:\n",
    "                for in_f_Hz in [ 9900 ]:\n",
    "                    pll = PhaseLockedLoop( K_i, K_p, K_0, in_f_Hz, fs )\n",
    "                    fast_pll = Fast_PhaseLockedLoop( K_i, K_p, K_0, in_f_Hz, fs )\n",
    "\n",
    "                    for idx in range(len(in_sig)):\n",
    "                        orig_cosOut, orig_sinOut, orig_e_D, orig_e_F = pll.proc( in_sig[idx] )\n",
    "\n",
    "                        fast_cosOut, fast_sinOut, fast_e_D, fast_e_F = fast_pll.proc( in_sig[idx] )\n",
    "\n",
    "                        assert( orig_cosOut == fast_cosOut )\n",
    "                        assert( orig_sinOut == fast_sinOut )\n",
    "                        assert( orig_e_D == fast_e_D )\n",
    "                        assert( orig_e_F == fast_e_F )\n",
    "                    \n",
    "                    \n",
    "\n",
    "print( \"All passed!\" )"
   ]
  },
  {
   "cell_type": "code",
   "execution_count": 3,
   "id": "81c8ffae",
   "metadata": {},
   "outputs": [
    {
     "name": "stdout",
     "output_type": "stream",
     "text": [
      "original: 12.26938271522522\n",
      "fast: 11.091150283813477\n"
     ]
    }
   ],
   "source": [
    "import time\n",
    "\n",
    "K = 1\n",
    "duration_secs = 10 / K\n",
    "\n",
    "start = time.time()\n",
    "for fs in [256000]:\n",
    "    in_f_Hz   = 10*K\n",
    "\n",
    "    t = np.linspace(0,duration_secs, int(duration_secs*fs))\n",
    "    in_sig    = np.cos( 2*np.pi * in_f_Hz*1.25 * t + 0 )\n",
    "\n",
    "    for K_p in [0.2667/10]:\n",
    "        for K_i in [0.0178*100]:\n",
    "            for K_0 in [1]:\n",
    "                for in_f_Hz in [ 9900 ]:\n",
    "                    pll = PhaseLockedLoop( K_i, K_p, K_0, in_f_Hz, fs )\n",
    "\n",
    "                    for idx in range(len(in_sig)):\n",
    "                        orig_cosOut, orig_sinOut, orig_e_D, orig_e_F = pll.proc( in_sig[idx] )\n",
    "\n",
    "end = time.time()\n",
    "print( \"original:\", end-start )\n",
    "\n",
    "start = time.time()\n",
    "for fs in [256000]:\n",
    "    in_f_Hz   = 10*K\n",
    "\n",
    "    t = np.linspace(0,duration_secs, int(duration_secs*fs))\n",
    "    in_sig    = np.cos( 2*np.pi * in_f_Hz*1.25 * t + 0 )\n",
    "\n",
    "    for K_p in [0.2667/10]:\n",
    "        for K_i in [0.0178*100]:\n",
    "            for K_0 in [1]:\n",
    "                for in_f_Hz in [ 9900 ]:\n",
    "                    fast_pll = Fast_PhaseLockedLoop( K_i, K_p, K_0, in_f_Hz, fs )\n",
    "\n",
    "                    for idx in range(len(in_sig)):\n",
    "                        fast_cosOut, fast_sinOut, fast_e_D, fast_e_F = fast_pll.proc( in_sig[idx] )\n",
    "end = time.time()\n",
    "print( \"fast:\", end-start )"
   ]
  },
  {
   "cell_type": "code",
   "execution_count": null,
   "id": "7ed31754",
   "metadata": {},
   "outputs": [],
   "source": []
  }
 ],
 "metadata": {
  "kernelspec": {
   "display_name": "Python 3 (ipykernel)",
   "language": "python",
   "name": "python3"
  },
  "language_info": {
   "codemirror_mode": {
    "name": "ipython",
    "version": 3
   },
   "file_extension": ".py",
   "mimetype": "text/x-python",
   "name": "python",
   "nbconvert_exporter": "python",
   "pygments_lexer": "ipython3",
   "version": "3.10.6"
  }
 },
 "nbformat": 4,
 "nbformat_minor": 5
}
