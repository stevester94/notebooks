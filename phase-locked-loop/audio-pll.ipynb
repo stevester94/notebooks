{
 "cells": [
  {
   "cell_type": "code",
   "execution_count": 5,
   "id": "39d2ef2c",
   "metadata": {},
   "outputs": [],
   "source": [
    "import time\n",
    "import numpy as np\n",
    "import sounddevice as sd\n",
    "from queue import Queue\n",
    "from utils import UltraSigGen\n",
    "from audioBuffer import AudioBuffer\n",
    "\n",
    "fs = 44100\n",
    "sg = UltraSigGen( frequency=10000, sampleRate=44100 )\n",
    "\n",
    "ab = AudioBuffer()\n",
    "block = []\n",
    "\n",
    "for _ in range(44100 * 2 ):\n",
    "    block.extend( sg.get( 1 ) )\n",
    "ab.put( block )\n",
    "\n",
    "start = time.time()\n",
    "while time.time() - start < 2.0:\n",
    "    time.sleep(1)"
   ]
  },
  {
   "cell_type": "code",
   "execution_count": null,
   "id": "074ed8d2",
   "metadata": {},
   "outputs": [],
   "source": []
  }
 ],
 "metadata": {
  "kernelspec": {
   "display_name": "Python 3 (ipykernel)",
   "language": "python",
   "name": "python3"
  },
  "language_info": {
   "codemirror_mode": {
    "name": "ipython",
    "version": 3
   },
   "file_extension": ".py",
   "mimetype": "text/x-python",
   "name": "python",
   "nbconvert_exporter": "python",
   "pygments_lexer": "ipython3",
   "version": "3.10.6"
  }
 },
 "nbformat": 4,
 "nbformat_minor": 5
}
