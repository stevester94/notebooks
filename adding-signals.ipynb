{
 "cells": [
  {
   "cell_type": "markdown",
   "metadata": {},
   "source": [
    "# Foreword\n",
    "Note that in audio, mixing generally just means adding two signals\n",
    "However, in RF, mixing is quite different"
   ]
  },
  {
   "cell_type": "markdown",
   "metadata": {},
   "source": [
    "# Adding two signals will add their amplitudes"
   ]
  },
  {
   "cell_type": "code",
   "execution_count": null,
   "metadata": {},
   "outputs": [],
   "source": [
    "import numpy as np\n",
    "import matplotlib.pyplot as plt\n",
    "\n",
    "duration_secs = 2\n",
    "t = np.arange(0, duration_secs, 0.01)\n",
    "\n",
    "def generate_signal(time, amplitude, frequency, phase):\n",
    "    return amplitude * np.sin(2 * np.pi * frequency * time + phase)\n",
    "\n",
    "signal_1 = generate_signal(t, 1, 1, 0)\n",
    "signal_2 = generate_signal(t, 1, 1, 0)\n",
    "signal_3 = signal_1 + signal_2\n",
    "\n",
    "fig, (all, combined_only) = plt.subplots(2,1)\n",
    "\n",
    "fig.set_figheight(10)\n",
    "fig.set_figwidth(20)\n",
    "\n",
    "all.plot(t, signal_1)\n",
    "all.plot(t, signal_2)\n",
    "combined_only.plot(t, signal_3)\n",
    "all.legend([\"f=1 signal\", \"f=2 signal\"])\n",
    "combined_only.legend([\"combination\"])\n",
    "plt.show()"
   ]
  },
  {
   "cell_type": "markdown",
   "metadata": {},
   "source": [
    "# Simple addition of 2 signals with different frequencies"
   ]
  },
  {
   "cell_type": "code",
   "execution_count": null,
   "metadata": {
    "_cell_guid": "b1076dfc-b9ad-4769-8c92-a6c4dae69d19",
    "_uuid": "8f2839f25d086af736a60e9eeb907d3b93b6e0e5"
   },
   "outputs": [],
   "source": [
    "import numpy as np\n",
    "import matplotlib.pyplot as plt\n",
    "\n",
    "duration_secs = 2\n",
    "t = np.arange(0, duration_secs, 0.01)\n",
    "\n",
    "def generate_signal(time, amplitude, frequency, phase):\n",
    "    return amplitude * np.sin(2 * np.pi * frequency * time + phase)\n",
    "\n",
    "signal_1 = generate_signal(t, 1, 1, 0)\n",
    "signal_2 = generate_signal(t, 1, 2, 0)\n",
    "signal_3 = signal_1 + signal_2\n",
    "\n",
    "fig, (all, combined_only) = plt.subplots(2,1)\n",
    "\n",
    "fig.set_figheight(10)\n",
    "fig.set_figwidth(20)\n",
    "\n",
    "all.plot(t, signal_1)\n",
    "all.plot(t, signal_2)\n",
    "combined_only.plot(t, signal_3)\n",
    "all.legend([\"f=1 signal\", \"f=2 signal\"])\n",
    "combined_only.legend([\"combination\"])\n",
    "plt.show()"
   ]
  },
  {
   "cell_type": "markdown",
   "metadata": {},
   "source": [
    "# Negative frequencies are a thing"
   ]
  },
  {
   "cell_type": "code",
   "execution_count": null,
   "metadata": {},
   "outputs": [],
   "source": [
    "import numpy as np\n",
    "import matplotlib.pyplot as plt\n",
    "\n",
    "duration_secs = 2\n",
    "t = np.arange(0, duration_secs, 0.01)\n",
    "\n",
    "def generate_signal(time, amplitude, frequency, phase):\n",
    "    return amplitude * np.sin(2 * np.pi * frequency * time + phase)\n",
    "\n",
    "signal_1 = generate_signal(t, 1, 1, 0)\n",
    "signal_2 = generate_signal(t, 1, -1, 0)\n",
    "signal_3 = signal_1 + signal_2\n",
    "\n",
    "fig, (all, combined_only) = plt.subplots(2,1)\n",
    "\n",
    "fig.set_figheight(10)\n",
    "fig.set_figwidth(20)\n",
    "\n",
    "all.plot(t, signal_1)\n",
    "all.plot(t, signal_2)\n",
    "combined_only.plot(t, signal_3)\n",
    "all.legend([\"f=1 signal\", \"f=2 signal\"])\n",
    "combined_only.legend([\"combination\"])\n",
    "plt.show()"
   ]
  },
  {
   "cell_type": "markdown",
   "metadata": {},
   "source": [
    "# Just kinda fucking around here. Subtract the carrier and you get the original\n",
    "Note this is not how RF mixing works"
   ]
  },
  {
   "cell_type": "code",
   "execution_count": null,
   "metadata": {},
   "outputs": [],
   "source": [
    "import numpy as np\n",
    "import matplotlib.pyplot as plt\n",
    "\n",
    "duration_secs = 2\n",
    "t = np.arange(0, duration_secs, 0.01)\n",
    "\n",
    "def generate_signal(time, amplitude, frequency, phase):\n",
    "    return amplitude * np.sin(2 * np.pi * frequency * time + phase)\n",
    "\n",
    "signal_1 = generate_signal(t, 1, 1, 0)\n",
    "carrier = generate_signal(t, 1, 10, 0)\n",
    "signal_3 = signal_1 + signal_2\n",
    "\n",
    "fig, (source_p, carrier_p, combined_p, subtracted_p) = plt.subplots(4,1)\n",
    "\n",
    "fig.set_figheight(10)\n",
    "fig.set_figwidth(20)\n",
    "\n",
    "\n",
    "source_p.legend([\"Source\"])\n",
    "source_p.plot(t, signal_1)\n",
    "\n",
    "carrier_p.legend([\"Carrier\"])\n",
    "carrier_p.plot(t, carrier)\n",
    "\n",
    "combined_p.legend([\"combined\"])\n",
    "combined_p.plot(t, signal_1+carrier)\n",
    "\n",
    "subtracted_p.legend([\"Subtracted\"])\n",
    "subtracted_p.plot(t, signal_1+carrier-carrier)\n",
    "\n",
    "plt.show()"
   ]
  }
 ],
 "metadata": {
  "kernelspec": {
   "display_name": "Python 3 (ipykernel)",
   "language": "python",
   "name": "python3"
  },
  "language_info": {
   "codemirror_mode": {
    "name": "ipython",
    "version": 3
   },
   "file_extension": ".py",
   "mimetype": "text/x-python",
   "name": "python",
   "nbconvert_exporter": "python",
   "pygments_lexer": "ipython3",
   "version": "3.10.6"
  }
 },
 "nbformat": 4,
 "nbformat_minor": 4
}
